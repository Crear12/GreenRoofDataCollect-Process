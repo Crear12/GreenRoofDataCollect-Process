{
 "cells": [
  {
   "cell_type": "code",
   "execution_count": 1,
   "metadata": {},
   "outputs": [],
   "source": [
    "import pandas as pd\n",
    "import sklearn\n",
    "import numpy as np\n",
    "import matplotlib.pyplot as plt\n",
    "import seaborn as sns"
   ]
  },
  {
   "cell_type": "code",
   "execution_count": 2,
   "metadata": {},
   "outputs": [],
   "source": [
    "weather_data = pd.read_csv(\"DownloadedDatasetFromDelhi.csv\")"
   ]
  },
  {
   "cell_type": "code",
   "execution_count": 3,
   "metadata": {},
   "outputs": [
    {
     "name": "stderr",
     "output_type": "stream",
     "text": [
      "C:\\Users\\Nicholas\\Anaconda3\\lib\\site-packages\\numpy\\core\\fromnumeric.py:56: FutureWarning: \n",
      "The current behaviour of 'Series.argmax' is deprecated, use 'idxmax'\n",
      "instead.\n",
      "The behavior of 'argmax' will be corrected to return the positional\n",
      "maximum in the future. For now, use 'series.values.argmax' or\n",
      "'np.argmax(np.array(values))' to get the position of the maximum\n",
      "row.\n",
      "  return getattr(obj, method)(*args, **kwds)\n"
     ]
    },
    {
     "data": {
      "text/plain": [
       "95248"
      ]
     },
     "execution_count": 3,
     "metadata": {},
     "output_type": "execute_result"
    }
   ],
   "source": [
    "np.argmax(weather_data[' _hum'])"
   ]
  },
  {
   "cell_type": "code",
   "execution_count": 4,
   "metadata": {},
   "outputs": [
    {
     "data": {
      "text/plain": [
       "4.0"
      ]
     },
     "execution_count": 4,
     "metadata": {},
     "output_type": "execute_result"
    }
   ],
   "source": [
    "min(weather_data[' _hum'])"
   ]
  },
  {
   "cell_type": "code",
   "execution_count": 5,
   "metadata": {},
   "outputs": [],
   "source": [
    "weather_data = weather_data.drop(weather_data.index[weather_data[' _hum']>100].tolist()) #Drop wrong data(Humidity>100%)"
   ]
  },
  {
   "cell_type": "code",
   "execution_count": 6,
   "metadata": {},
   "outputs": [
    {
     "data": {
      "text/plain": [
       "Int64Index([], dtype='int64')"
      ]
     },
     "execution_count": 6,
     "metadata": {},
     "output_type": "execute_result"
    }
   ],
   "source": [
    "weather_data.index[weather_data[' _hum']>100]"
   ]
  },
  {
   "cell_type": "code",
   "execution_count": 7,
   "metadata": {},
   "outputs": [],
   "source": [
    "HnT_data = weather_data[['datetime_utc',' _hum',' _rain',' _tempm']]"
   ]
  },
  {
   "cell_type": "code",
   "execution_count": 10,
   "metadata": {},
   "outputs": [
    {
     "data": {
      "image/png": "[encoded data removed]",
      "text/plain": [
       "<Figure size 432x288 with 1 Axes>"
      ]
     },
     "metadata": {
      "needs_background": "light"
     },
     "output_type": "display_data"
    }
   ],
   "source": [
    "toshow = plt.plot(HnT_data['datetime_utc'],HnT_data[' _hum'])\n",
    "# sns.scatterplot(data=' _tempm')"
   ]
  },
  {
   "cell_type": "code",
   "execution_count": 66,
   "metadata": {},
   "outputs": [
    {
     "ename": "AttributeError",
     "evalue": "module 'seaborn' has no attribute 'hisplot'",
     "output_type": "error",
     "traceback": [
      "\u001b[0;31m---------------------------------------------------------------------------\u001b[0m",
      "\u001b[0;31mAttributeError\u001b[0m                            Traceback (most recent call last)",
      "\u001b[0;32m<ipython-input-66-311ca3ba97f5>\u001b[0m in \u001b[0;36m<module>\u001b[0;34m\u001b[0m\n\u001b[0;32m----> 1\u001b[0;31m \u001b[0msns\u001b[0m\u001b[0;34m.\u001b[0m\u001b[0mhisplot\u001b[0m\u001b[0;34m(\u001b[0m\u001b[0mdata\u001b[0m\u001b[0;34m=\u001b[0m\u001b[0mHnT_data\u001b[0m\u001b[0;34m[\u001b[0m\u001b[0;34m' _rain'\u001b[0m\u001b[0;34m]\u001b[0m\u001b[0;34m)\u001b[0m\u001b[0;34m\u001b[0m\u001b[0;34m\u001b[0m\u001b[0m\n\u001b[0m",
      "\u001b[0;31mAttributeError\u001b[0m: module 'seaborn' has no attribute 'hisplot'"
     ]
    }
   ],
   "source": [
    "sns.hisplot(data=HnT_data[' _rain'])"
   ]
  },
  {
   "cell_type": "code",
   "execution_count": 9,
   "metadata": {},
   "outputs": [
    {
     "data": {
      "text/plain": [
       "0         19961101-11:00\n",
       "1         19961101-12:00\n",
       "2         19961101-13:00\n",
       "3         19961101-14:00\n",
       "4         19961101-16:00\n",
       "5         19961101-17:00\n",
       "6         19961101-18:00\n",
       "7         19961101-19:00\n",
       "8         19961101-20:00\n",
       "9         19961101-21:00\n",
       "10        19961101-22:00\n",
       "11        19961101-23:00\n",
       "12        19961102-00:00\n",
       "13        19961102-01:00\n",
       "14        19961102-02:00\n",
       "15        19961102-03:00\n",
       "16        19961102-04:00\n",
       "17        19961102-05:00\n",
       "18        19961102-06:00\n",
       "19        19961102-07:00\n",
       "20        19961102-08:00\n",
       "21        19961102-09:00\n",
       "22        19961102-10:00\n",
       "23        19961102-11:00\n",
       "24        19961102-12:00\n",
       "25        19961102-13:00\n",
       "26        19961102-14:00\n",
       "27        19961102-15:00\n",
       "28        19961102-16:00\n",
       "29        19961102-17:00\n",
       "               ...      \n",
       "100960    20170421-09:00\n",
       "100961    20170421-12:00\n",
       "100962    20170421-15:00\n",
       "100963    20170421-18:00\n",
       "100964    20170421-21:00\n",
       "100965    20170422-00:00\n",
       "100966    20170422-03:00\n",
       "100967    20170422-06:00\n",
       "100968    20170422-08:00\n",
       "100969    20170422-09:00\n",
       "100970    20170422-12:00\n",
       "100971    20170422-12:30\n",
       "100972    20170422-15:00\n",
       "100973    20170422-18:00\n",
       "100974    20170422-21:00\n",
       "100975    20170423-00:00\n",
       "100976    20170423-03:00\n",
       "100977    20170423-06:00\n",
       "100978    20170423-09:00\n",
       "100979    20170423-12:00\n",
       "100980    20170423-15:00\n",
       "100981    20170423-18:00\n",
       "100982    20170423-21:00\n",
       "100983    20170424-00:00\n",
       "100984    20170424-03:00\n",
       "100985    20170424-06:00\n",
       "100986    20170424-09:00\n",
       "100987    20170424-12:00\n",
       "100988    20170424-15:00\n",
       "100989    20170424-18:00\n",
       "Name: datetime_utc, Length: 100987, dtype: object"
      ]
     },
     "execution_count": 9,
     "metadata": {},
     "output_type": "execute_result"
    }
   ],
   "source": [
    "HnT_data['datetime_utc']"
   ]
  },
  {
   "cell_type": "code",
   "execution_count": null,
   "metadata": {},
   "outputs": [],
   "source": []
  }
 ],
 "metadata": {
  "kernelspec": {
   "display_name": "Python 3",
   "language": "python",
   "name": "python3"
  },
  "language_info": {
   "codemirror_mode": {
    "name": "ipython",
    "version": 3
   },
   "file_extension": ".py",
   "mimetype": "text/x-python",
   "name": "python",
   "nbconvert_exporter": "python",
   "pygments_lexer": "ipython3",
   "version": "3.7.3"
  }
 },
 "nbformat": 4,
 "nbformat_minor": 2
}
